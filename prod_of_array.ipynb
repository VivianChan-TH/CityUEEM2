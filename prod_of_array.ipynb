{
  "nbformat": 4,
  "nbformat_minor": 0,
  "metadata": {
    "colab": {
      "name": "prod_of_array.ipynb",
      "provenance": [],
      "collapsed_sections": []
    },
    "kernelspec": {
      "name": "python3",
      "display_name": "Python 3"
    }
  },
  "cells": [
    {
      "cell_type": "code",
      "metadata": {
        "id": "TW4TmGw0LSlY",
        "colab_type": "code",
        "colab": {
          "base_uri": "https://localhost:8080/",
          "height": 51
        },
        "outputId": "cb961723-399a-4beb-c6e9-8ce632bacb0e"
      },
      "source": [
        "def prod_of_array(array):\n",
        "  p = []\n",
        "  for i in array:\n",
        "    temp = list(array)\n",
        "    temp.remove(i)\n",
        "    result = 1\n",
        "    for x in temp:\n",
        "      result *= x\n",
        "    p.append(result)\n",
        "  return p\n",
        "  \n",
        "print(prod_of_array([1,2,3,4,5]))\n",
        "print(prod_of_array([3,2,1]))"
      ],
      "execution_count": 22,
      "outputs": [
        {
          "output_type": "stream",
          "text": [
            "[120, 60, 40, 30, 24]\n",
            "[2, 3, 6]\n"
          ],
          "name": "stdout"
        }
      ]
    }
  ]
}