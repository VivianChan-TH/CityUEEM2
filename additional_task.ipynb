{
  "nbformat": 4,
  "nbformat_minor": 0,
  "metadata": {
    "colab": {
      "name": "additional task.ipynb",
      "provenance": [],
      "collapsed_sections": []
    },
    "kernelspec": {
      "name": "python3",
      "display_name": "Python 3"
    }
  },
  "cells": [
    {
      "cell_type": "code",
      "metadata": {
        "id": "w58eqJRbwTVp",
        "colab_type": "code",
        "colab": {}
      },
      "source": [
        "info = [('Mary','ABC School','SS000',('Y','Y','N','N')),('Alex','FGH School','SS999',('N','Y','Y','N'))]"
      ],
      "execution_count": null,
      "outputs": []
    },
    {
      "cell_type": "code",
      "metadata": {
        "id": "MSjLVjvqvcnf",
        "colab_type": "code",
        "colab": {
          "base_uri": "https://localhost:8080/",
          "height": 136
        },
        "outputId": "59ecb062-a0df-4672-9379-4ed95290b148"
      },
      "source": [
        "user_student = input('your name? ')\n",
        "user_school = input('your school? ')\n",
        "user_SSID = input('your SSID? ')\n",
        "attendance_list = []\n",
        "for day in range(2):\n",
        "  user_attendance = input('your attendance on the day %i AM? ' %(day+1))\n",
        "  attendance_list.append(user_attendance)\n",
        "  user_attendance = input('your attendance on the day %i PM? ' %(day+1))\n",
        "  attendance_list.append(user_attendance)\n",
        "\n",
        "user_attendance = tuple(attendance_list)\n",
        "new = (user_student,user_school,user_SSID,user_attendance)\n",
        "info.append(new)"
      ],
      "execution_count": null,
      "outputs": [
        {
          "output_type": "stream",
          "text": [
            "your name? Lily\n",
            "your school? XYZ School\n",
            "your SSID? SS222\n",
            "your attendance on the day 1 AM? Y\n",
            "your attendance on the day 1 PM? N\n",
            "your attendance on the day 2 AM? N\n",
            "your attendance on the day 2 PM? N\n"
          ],
          "name": "stdout"
        }
      ]
    },
    {
      "cell_type": "code",
      "metadata": {
        "id": "S49wIa_ymgy_",
        "colab_type": "code",
        "colab": {}
      },
      "source": [
        "student = []\n",
        "school = []\n",
        "SSID = []\n",
        "attendance = []\n",
        "attendpercent = []\n",
        "for i in info:\n",
        "  student.append(i[0])\n",
        "  school.append(i[1])\n",
        "  SSID.append(i[2])\n",
        "  attendance.append(i[3])\n",
        "\n",
        "for h in attendance:\n",
        "  attendpercent.append(h.count('Y')/len(h)) \n",
        "  \n",
        "information = {'student': student, 'school': school, 'SSID': SSID, 'Attendance': attendance, 'Attendance percentage':attendpercent}"
      ],
      "execution_count": null,
      "outputs": []
    },
    {
      "cell_type": "code",
      "metadata": {
        "id": "DH57v-DRzQ6R",
        "colab_type": "code",
        "colab": {
          "base_uri": "https://localhost:8080/",
          "height": 85
        },
        "outputId": "06540197-e74a-45ea-a943-9bce17f67d53"
      },
      "source": [
        "print (\"{:<1} {:<10} {:<10} {:<10} {:<30} {:<10}\".format(' ', 'NAME', 'SCHOOL', 'SSID', 'ATTENDANCE(1AM, 1PM, 2AM, 2PM)', 'ATTENDANCE PERCENTAGE')) \n",
        "  \n",
        "for n in range(len(student)): \n",
        "    print (\"{:<1} {:<10} {:<10} {:<10} {:<30} {:<10}\".format(n+1, student[n], school[n], SSID[n], str(attendance[n]), attendpercent[n])) "
      ],
      "execution_count": null,
      "outputs": [
        {
          "output_type": "stream",
          "text": [
            "  NAME       SCHOOL     SSID       ATTENDANCE(1AM, 1PM, 2AM, 2PM) ATTENDANCE PERCENTAGE\n",
            "1 Mary       ABC School SS000      ('Y', 'Y', 'N', 'N')           0.5       \n",
            "2 Alex       FGH School SS999      ('N', 'Y', 'Y', 'N')           0.5       \n",
            "3 Lily       XYZ School SS222      ('Y', 'N', 'N', 'N')           0.25      \n"
          ],
          "name": "stdout"
        }
      ]
    }
  ]
}