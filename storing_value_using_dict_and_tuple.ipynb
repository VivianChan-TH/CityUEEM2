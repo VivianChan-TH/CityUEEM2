{
  "nbformat": 4,
  "nbformat_minor": 0,
  "metadata": {
    "colab": {
      "name": "storing value using dict and tuple.ipynb",
      "provenance": [],
      "collapsed_sections": [],
      "authorship_tag": "ABX9TyNceuM07d+cX1r2PHy09jEi",
      "include_colab_link": true
    },
    "kernelspec": {
      "name": "python3",
      "display_name": "Python 3"
    }
  },
  "cells": [
    {
      "cell_type": "markdown",
      "metadata": {
        "id": "view-in-github",
        "colab_type": "text"
      },
      "source": [
        "<a href=\"https://colab.research.google.com/github/VivianChan-TH/storing-info/blob/master/storing_value_using_dict_and_tuple.ipynb\" target=\"_parent\"><img src=\"https://colab.research.google.com/assets/colab-badge.svg\" alt=\"Open In Colab\"/></a>"
      ]
    },
    {
      "cell_type": "code",
      "metadata": {
        "id": "w58eqJRbwTVp",
        "colab_type": "code",
        "colab": {}
      },
      "source": [
        "info = [('Mary','ABC School','SS000',('Y','Y','N','N')),('Alex','FGH School','SS999',('N','Y','Y','N'))]"
      ],
      "execution_count": null,
      "outputs": []
    },
    {
      "cell_type": "code",
      "metadata": {
        "id": "MSjLVjvqvcnf",
        "colab_type": "code",
        "colab": {
          "base_uri": "https://localhost:8080/",
          "height": 136
        },
        "outputId": "b65253e9-28fc-4fc7-f7ad-087c521c8968"
      },
      "source": [
        "user_student = input('your name? ')\n",
        "user_school = input('your school? ')\n",
        "user_SSID = input('your SSID? ')\n",
        "attendance_list = []\n",
        "for day in range(2):\n",
        "  user_attendance = input('your attendance on the day %i AM? ' %(day+1))\n",
        "  attendance_list.append(user_attendance)\n",
        "  user_attendance = input('your attendance on the day %i PM? ' %(day+1))\n",
        "  attendance_list.append(user_attendance)\n",
        "\n",
        "user_attendance = tuple(attendance_list)\n",
        "new = (user_student,user_school,user_SSID,user_attendance)\n",
        "info.append(new)"
      ],
      "execution_count": null,
      "outputs": [
        {
          "output_type": "stream",
          "text": [
            "your name? Lily\n",
            "your school? sdfs\n",
            "your SSID? SS232\n",
            "your attendance on the day 1 AM? Y\n",
            "your attendance on the day 1 PM? Y\n",
            "your attendance on the day 2 AM? Y\n",
            "your attendance on the day 2 PM? Y\n"
          ],
          "name": "stdout"
        }
      ]
    },
    {
      "cell_type": "code",
      "metadata": {
        "id": "S49wIa_ymgy_",
        "colab_type": "code",
        "colab": {
          "base_uri": "https://localhost:8080/",
          "height": 34
        },
        "outputId": "2731bc03-673e-4ed2-fbad-a2f34fe2a88b"
      },
      "source": [
        "student = []\n",
        "school = []\n",
        "SSID = []\n",
        "attendance = []\n",
        "attendpercent = []\n",
        "for i in info:\n",
        "  student.append(i[0])\n",
        "  school.append(i[1])\n",
        "  SSID.append(i[2])\n",
        "  attendance.append(i[3])\n",
        "\n",
        "for h in attendance:\n",
        "  attendpercent.append(h.count('Y')/len(h)) \n",
        "  \n",
        "print(attendpercent)\n",
        "information = {'student': student, 'school': school, 'SSID': SSID, 'Attendance': attendance, 'Attendance percentage':attendpercent}"
      ],
      "execution_count": null,
      "outputs": [
        {
          "output_type": "stream",
          "text": [
            "[0.5, 0.5, 1.0]\n"
          ],
          "name": "stdout"
        }
      ]
    },
    {
      "cell_type": "code",
      "metadata": {
        "id": "DH57v-DRzQ6R",
        "colab_type": "code",
        "colab": {
          "base_uri": "https://localhost:8080/",
          "height": 85
        },
        "outputId": "464651c9-13db-4902-f566-b814a7ea9e1d"
      },
      "source": [
        "print (\"{:<1} {:<10} {:<10} {:<10} {:<30} {:<10}\".format(' ', 'NAME', 'SCHOOL', 'SSID', 'ATTENDANCE(1AM, 1PM, 2AM, 2PM)', 'ATTENDANCE PERCENTAGE')) \n",
        "  \n",
        "for n in range(len(student)): \n",
        "    print (\"{:<1} {:<10} {:<10} {:<10} {:<30} {:<10}\".format(n+1, student[n], school[n], SSID[n], str(attendance[n]), attendpercent[n])) "
      ],
      "execution_count": null,
      "outputs": [
        {
          "output_type": "stream",
          "text": [
            "  NAME       SCHOOL     SSID       ATTENDANCE(1AM, 1PM, 2AM, 2PM) ATTENDANCE PERCENTAGE\n",
            "1 Mary       ABC School SS000      ('Y', 'Y', 'N', 'N')           0.5       \n",
            "2 Alex       FGH School SS999      ('N', 'Y', 'Y', 'N')           0.5       \n",
            "3 Lily       sdfs       SS232      ('Y', 'Y', 'Y', 'Y')           1.0       \n"
          ],
          "name": "stdout"
        }
      ]
    }
  ]
}