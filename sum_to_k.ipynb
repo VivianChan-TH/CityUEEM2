{
  "nbformat": 4,
  "nbformat_minor": 0,
  "metadata": {
    "colab": {
      "name": "sum_to_k.ipynb",
      "provenance": [],
      "collapsed_sections": []
    },
    "kernelspec": {
      "name": "python3",
      "display_name": "Python 3"
    }
  },
  "cells": [
    {
      "cell_type": "code",
      "metadata": {
        "id": "o8ipEYZAIiKk",
        "colab_type": "code",
        "colab": {
          "base_uri": "https://localhost:8080/",
          "height": 68
        },
        "outputId": "03f3cd37-2d01-4bd8-cd9f-31b0508434da"
      },
      "source": [
        "def sum_to_k(nums, k):\n",
        "  for num1 in range(len(nums)-1):\n",
        "    for num2 in (range(len(nums)-1)):\n",
        "      if k == nums[num1] + nums[-num2]:\n",
        "        print('the numbers are ',nums[num1],' and ', nums[-num2])\n",
        "        return True\n",
        "  return False\n",
        "\n",
        "nums = [10,15,3,7]\n",
        "k = int(input('enter a number '))\n",
        "print(sum_to_k(nums,k))"
      ],
      "execution_count": 1,
      "outputs": [
        {
          "output_type": "stream",
          "text": [
            "enter a number 17\n",
            "the numbers are  10  and  7\n",
            "True\n"
          ],
          "name": "stdout"
        }
      ]
    }
  ]
}